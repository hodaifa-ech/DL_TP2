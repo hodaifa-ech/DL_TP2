{
  "nbformat": 4,
  "nbformat_minor": 0,
  "metadata": {
    "colab": {
      "provenance": []
    },
    "kernelspec": {
      "name": "python3",
      "display_name": "Python 3"
    },
    "language_info": {
      "name": "python"
    }
  },
  "cells": [
    {
      "cell_type": "markdown",
      "source": [
        "Enable GPU"
      ],
      "metadata": {
        "id": "mJSmj4elyMme"
      }
    },
    {
      "cell_type": "code",
      "source": [
        "import torch\n",
        "\n",
        "if torch.cuda.is_available():\n",
        "    device = torch.device(\"cuda\")\n",
        "    print(\"GPU is available. Using device:\", device)\n",
        "    print(\"GPU Name:\", torch.cuda.get_device_name(0))\n",
        "else:\n",
        "    device = torch.device(\"cpu\")\n",
        "    print(\"GPU is not available. Using CPU.\")"
      ],
      "metadata": {
        "colab": {
          "base_uri": "https://localhost:8080/"
        },
        "id": "xyZ1X7wmyRIG",
        "outputId": "bd9c2f82-1051-4d6f-ac44-f5ba91adc5d8"
      },
      "execution_count": 1,
      "outputs": [
        {
          "output_type": "stream",
          "name": "stdout",
          "text": [
            "GPU is not available. Using CPU.\n"
          ]
        }
      ]
    },
    {
      "cell_type": "markdown",
      "source": [
        "Data Loading (MNIST from Kaggle - UByte Files)"
      ],
      "metadata": {
        "id": "fbn1ZFqKylxi"
      }
    },
    {
      "cell_type": "code",
      "source": [
        "import numpy as np\n",
        "import struct\n",
        "import torch\n",
        "from torch.utils.data import Dataset, DataLoader\n",
        "from torchvision import transforms\n",
        "from PIL import Image\n",
        "\n",
        "def read_idx(filename):\n",
        "    \"\"\"Reads an IDX file and returns a NumPy array.\"\"\"\n",
        "    with open(filename, 'rb') as f:\n",
        "        magic, size = struct.unpack(\">II\", f.read(8))\n",
        "\n",
        "        if magic == 2051:\n",
        "            rows, cols = struct.unpack(\">II\", f.read(8))\n",
        "            data = np.fromfile(f, dtype=np.dtype(np.uint8).newbyteorder('>')).reshape(size, rows, cols)\n",
        "        elif magic == 2049:\n",
        "            data = np.fromfile(f, dtype=np.dtype(np.uint8).newbyteorder('>'))\n",
        "        else:\n",
        "            raise ValueError(\"Invalid magic number: {}\".format(magic))\n",
        "    return data\n",
        "\n",
        "class MNISTUByteDataset(Dataset):\n",
        "    def __init__(self, images_file, labels_file, transform=None):\n",
        "        self.images = read_idx(images_file)\n",
        "        self.labels = read_idx(labels_file)\n",
        "        self.transform = transform\n",
        "\n",
        "    def __len__(self):\n",
        "        return len(self.images)\n",
        "\n",
        "    def __getitem__(self, idx):\n",
        "        image = self.images[idx]\n",
        "        label = self.labels[idx]\n",
        "\n",
        "\n",
        "        image = Image.fromarray(image)\n",
        "\n",
        "        if self.transform:\n",
        "            image = self.transform(image)\n",
        "\n",
        "        return image, label\n",
        "\n",
        "\n",
        "\n",
        "transform = transforms.Compose([\n",
        "    transforms.ToTensor(),\n",
        "    transforms.Normalize((0.1307,), (0.3081,))\n",
        "])\n",
        "\n",
        "\n",
        "train_images_file = 'train-images.idx3-ubyte'  # If the file is in the root\n",
        "train_labels_file = 'train-labels.idx1-ubyte'\n",
        "test_images_file = 't10k-images.idx3-ubyte'\n",
        "test_labels_file = 't10k-labels.idx1-ubyte'\n",
        "\n",
        "\n",
        "train_dataset = MNISTUByteDataset(train_images_file, train_labels_file, transform=transform)\n",
        "test_dataset = MNISTUByteDataset(test_images_file, test_labels_file, transform=transform)\n",
        "\n",
        "\n",
        "train_loader = DataLoader(train_dataset, batch_size=64, shuffle=True, num_workers=2)\n",
        "test_loader = DataLoader(test_dataset, batch_size=64, shuffle=False, num_workers=2)\n",
        "\n",
        "print(\"Data loaded from UByte files.\")"
      ],
      "metadata": {
        "colab": {
          "base_uri": "https://localhost:8080/"
        },
        "id": "S_IZjtvGziIr",
        "outputId": "5050045c-39f7-4381-d747-e9bf3e9243f8"
      },
      "execution_count": 14,
      "outputs": [
        {
          "output_type": "stream",
          "name": "stdout",
          "text": [
            "Data loaded from UByte files.\n"
          ]
        }
      ]
    },
    {
      "cell_type": "code",
      "source": [
        "!pip install Pillow"
      ],
      "metadata": {
        "colab": {
          "base_uri": "https://localhost:8080/"
        },
        "id": "rzR5JNOr2Tds",
        "outputId": "b97c0569-9d2c-46de-b157-e8b92ebfd3f3"
      },
      "execution_count": 8,
      "outputs": [
        {
          "output_type": "stream",
          "name": "stdout",
          "text": [
            "Requirement already satisfied: Pillow in /usr/local/lib/python3.11/dist-packages (11.1.0)\n"
          ]
        }
      ]
    },
    {
      "cell_type": "markdown",
      "source": [],
      "metadata": {
        "id": "N4dD_FUa2V-0"
      }
    },
    {
      "cell_type": "code",
      "source": [
        "import torch\n",
        "import torch.nn as nn\n",
        "import torch.optim as optim\n",
        "from sklearn.metrics import accuracy_score, f1_score\n",
        "import time"
      ],
      "metadata": {
        "id": "guIYeS7o2a6l"
      },
      "execution_count": 9,
      "outputs": []
    },
    {
      "cell_type": "code",
      "source": [
        "class CNN(nn.Module):\n",
        "    def __init__(self):\n",
        "        super(CNN, self).__init__()\n",
        "        self.conv1 = nn.Conv2d(1, 32, kernel_size=3, stride=1, padding=1)\n",
        "        self.relu1 = nn.ReLU()\n",
        "        self.pool1 = nn.MaxPool2d(kernel_size=2, stride=2)\n",
        "        self.conv2 = nn.Conv2d(32, 64, kernel_size=3, stride=1, padding=1)\n",
        "        self.relu2 = nn.ReLU()\n",
        "        self.pool2 = nn.MaxPool2d(kernel_size=2, stride=2)\n",
        "        self.flatten = nn.Flatten()\n",
        "        self.fc1 = nn.Linear(64 * 7 * 7, 128)\n",
        "        self.relu3 = nn.ReLU()\n",
        "        self.fc2 = nn.Linear(128, 10)\n",
        "\n",
        "    def forward(self, x):\n",
        "        x = self.conv1(x)\n",
        "        x = self.relu1(x)\n",
        "        x = self.pool1(x)\n",
        "        x = self.conv2(x)\n",
        "        x = self.relu2(x)\n",
        "        x = self.pool2(x)\n",
        "        x = self.flatten(x)\n",
        "        x = self.fc1(x)\n",
        "        x = self.relu3(x)\n",
        "        x = self.fc2(x)\n",
        "        return x"
      ],
      "metadata": {
        "id": "mvlXDnrI2b-0"
      },
      "execution_count": 11,
      "outputs": []
    },
    {
      "cell_type": "code",
      "source": [
        "device = torch.device(\"cuda\" if torch.cuda.is_available() else \"cpu\")\n",
        "model = CNN().to(device)\n",
        "\n",
        "criterion = nn.CrossEntropyLoss()\n",
        "optimizer = optim.Adam(model.parameters(), lr=0.001)"
      ],
      "metadata": {
        "id": "uT8jxdI82mfO"
      },
      "execution_count": 12,
      "outputs": []
    },
    {
      "cell_type": "code",
      "source": [
        "num_epochs = 10\n",
        "\n",
        "start_time = time.time()\n",
        "for epoch in range(num_epochs):\n",
        "    running_loss = 0.0\n",
        "    for i, data in enumerate(train_loader, 0):\n",
        "        inputs, labels = data[0].to(device), data[1].to(device)\n",
        "\n",
        "        optimizer.zero_grad()\n",
        "        outputs = model(inputs)\n",
        "        loss = criterion(outputs, labels)\n",
        "        loss.backward()\n",
        "        optimizer.step()\n",
        "\n",
        "        running_loss += loss.item()\n",
        "        if i % 200 == 199:\n",
        "            print(f'[{epoch + 1}, {i + 1:5d}] loss: {running_loss / 200:.3f}')\n",
        "            running_loss = 0.0\n",
        "\n",
        "training_time = time.time() - start_time\n",
        "print('Finished Training')\n",
        "print(f'Training time: {training_time:.2f} seconds')"
      ],
      "metadata": {
        "colab": {
          "base_uri": "https://localhost:8080/"
        },
        "id": "Suv8fzAS2rTV",
        "outputId": "15c5dbc8-6077-4ad5-c9a6-712dedccacdf"
      },
      "execution_count": 13,
      "outputs": [
        {
          "output_type": "stream",
          "name": "stdout",
          "text": [
            "[1,   200] loss: 0.346\n",
            "[1,   400] loss: 0.094\n",
            "[1,   600] loss: 0.070\n",
            "[1,   800] loss: 0.070\n",
            "[2,   200] loss: 0.043\n",
            "[2,   400] loss: 0.043\n",
            "[2,   600] loss: 0.043\n",
            "[2,   800] loss: 0.039\n",
            "[3,   200] loss: 0.026\n",
            "[3,   400] loss: 0.028\n",
            "[3,   600] loss: 0.031\n",
            "[3,   800] loss: 0.029\n",
            "[4,   200] loss: 0.020\n",
            "[4,   400] loss: 0.019\n",
            "[4,   600] loss: 0.019\n",
            "[4,   800] loss: 0.023\n",
            "[5,   200] loss: 0.011\n",
            "[5,   400] loss: 0.017\n",
            "[5,   600] loss: 0.016\n",
            "[5,   800] loss: 0.017\n",
            "[6,   200] loss: 0.012\n",
            "[6,   400] loss: 0.013\n",
            "[6,   600] loss: 0.010\n",
            "[6,   800] loss: 0.010\n",
            "[7,   200] loss: 0.008\n",
            "[7,   400] loss: 0.006\n",
            "[7,   600] loss: 0.014\n",
            "[7,   800] loss: 0.010\n",
            "[8,   200] loss: 0.009\n",
            "[8,   400] loss: 0.008\n",
            "[8,   600] loss: 0.008\n",
            "[8,   800] loss: 0.011\n",
            "[9,   200] loss: 0.008\n",
            "[9,   400] loss: 0.008\n",
            "[9,   600] loss: 0.007\n",
            "[9,   800] loss: 0.007\n",
            "[10,   200] loss: 0.005\n",
            "[10,   400] loss: 0.004\n",
            "[10,   600] loss: 0.007\n",
            "[10,   800] loss: 0.011\n",
            "Finished Training\n",
            "Training time: 973.72 seconds\n"
          ]
        }
      ]
    },
    {
      "cell_type": "code",
      "source": [
        "model.eval()\n",
        "all_predictions = []\n",
        "all_labels = []\n",
        "\n",
        "with torch.no_grad():\n",
        "    for data in test_loader:\n",
        "        images, labels = data[0].to(device), data[1].to(device)\n",
        "        outputs = model(images)\n",
        "        _, predicted = torch.max(outputs.data, 1)\n",
        "\n",
        "        all_predictions.extend(predicted.cpu().numpy())\n",
        "        all_labels.extend(labels.cpu().numpy())\n",
        "\n",
        "accuracy = accuracy_score(all_labels, all_predictions)\n",
        "f1 = f1_score(all_labels, all_predictions, average='weighted')\n",
        "\n",
        "print(f'Accuracy: {accuracy:.4f}')\n",
        "print(f'F1 Score: {f1:.4f}')"
      ],
      "metadata": {
        "id": "IFonoB8F29MO"
      },
      "execution_count": null,
      "outputs": []
    },
    {
      "cell_type": "markdown",
      "source": [
        "aster R-CNN"
      ],
      "metadata": {
        "id": "shuyEqIH2-l-"
      }
    },
    {
      "cell_type": "code",
      "source": [
        "import torch\n",
        "import torchvision\n",
        "from torchvision.models.detection import fasterrcnn_resnet50_fpn\n",
        "from torchvision.transforms import functional as F\n",
        "from PIL import Image\n",
        "import numpy as np\n",
        "import pandas as pd\n",
        "from torch.utils.data import Dataset, DataLoader\n",
        "import time\n",
        "from sklearn.metrics import accuracy_score, f1_score\n",
        "\n",
        "\n",
        "\n",
        "class MNISTObjectDataset(Dataset):\n",
        "    def __init__(self, images, labels):\n",
        "        self.images = images\n",
        "        self.labels = labels\n",
        "\n",
        "    def __len__(self):\n",
        "        return len(self.images)\n",
        "\n",
        "    def __getitem__(self, idx):\n",
        "\n",
        "        image = Image.fromarray(self.images[idx])\n",
        "\n",
        "\n",
        "        image = F.to_tensor(image)\n",
        "\n",
        "\n",
        "        boxes = torch.tensor([[0, 0, 27, 27]], dtype=torch.float32)\n",
        "\n",
        "\n",
        "        labels = torch.tensor([self.labels[idx]], dtype=torch.int64)\n",
        "\n",
        "\n",
        "        target = {}\n",
        "        target[\"boxes\"] = boxes\n",
        "        target[\"labels\"] = labels + 1\n",
        "        target[\"image_id\"] = torch.tensor([idx])\n",
        "        target[\"area\"] = torch.tensor([28 * 28])\n",
        "        target[\"iscrowd\"] = torch.tensor([0],dtype=torch.int64)\n",
        "\n",
        "\n",
        "        return image, target\n",
        "\n",
        "\n",
        "\n",
        "train_dataset = MNISTObjectDataset(train_dataset.images,train_dataset.labels)\n",
        "test_dataset = MNISTObjectDataset(test_dataset.images,test_dataset.labels)\n",
        "\n",
        "def collate_fn(batch):\n",
        "    return tuple(zip(*batch))\n",
        "\n",
        "data_loader = DataLoader(train_dataset, batch_size=4, shuffle=True, collate_fn=collate_fn)\n",
        "data_loader_test = DataLoader(test_dataset, batch_size=4, shuffle=False, collate_fn=collate_fn)\n",
        "\n",
        "\n",
        "model = fasterrcnn_resnet50_fpn(pretrained=True)\n",
        "\n",
        "\n",
        "num_classes = 11\n",
        "in_features = model.roi_heads.box_predictor.cls_score.in_features\n",
        "model.roi_heads.box_predictor = torchvision.models.detection.faster_rcnn.FastRCNNPredictor(in_features, num_classes)\n",
        "model.to(device)\n",
        "\n",
        "\n",
        "params = [p for p in model.parameters() if p.requires_grad]\n",
        "optimizer = torch.optim.SGD(params, lr=0.005, momentum=0.9, weight_decay=0.0005)\n",
        "lr_scheduler = torch.optim.lr_scheduler.StepLR(optimizer, step_size=3, gamma=0.1)\n",
        "\n",
        "\n",
        "\n",
        "num_epochs = 2\n",
        "start_time = time.time()\n",
        "for epoch in range(num_epochs):\n",
        "    model.train()\n",
        "    i = 0\n",
        "    epoch_loss = 0.0\n",
        "    for images, targets in data_loader:\n",
        "        i += 1\n",
        "        images = list(image.to(device) for image in images)\n",
        "        targets = [{k: v.to(device) for k, v in t.items()} for t in targets]\n",
        "\n",
        "        loss_dict = model(images, targets)\n",
        "        losses = sum(loss for loss in loss_dict.values())\n",
        "        epoch_loss += losses.item()\n",
        "\n",
        "        optimizer.zero_grad()\n",
        "        losses.backward()\n",
        "        optimizer.step()\n",
        "\n",
        "        if i % 100 == 0:\n",
        "            print(f\"Epoch: {epoch}, Iteration: {i}, Loss: {losses}\")\n",
        "\n",
        "    lr_scheduler.step()\n",
        "    print(f\"Epoch {epoch} Loss: {epoch_loss/len(data_loader)}\")\n",
        "training_time_frcnn = time.time() - start_time\n",
        "print(f\"Finished training FRCNN. Total training time: {training_time_frcnn:.2f} seconds\")\n",
        "\n",
        "\n",
        "model.eval()\n",
        "all_predictions = []\n",
        "all_labels = []\n",
        "\n",
        "with torch.no_grad():\n",
        "    for images, targets in data_loader_test:\n",
        "        images = list(image.to(device) for image in images)\n",
        "        predictions = model(images)\n",
        "\n",
        "\n",
        "        for i, prediction in enumerate(predictions):\n",
        "\n",
        "            predicted_labels = prediction['labels'].cpu().numpy() - 1\n",
        "            true_labels = targets[i]['labels'].cpu().numpy() - 1\n",
        "\n",
        "            all_predictions.extend(predicted_labels)\n",
        "            all_labels.extend(true_labels)\n",
        "\n",
        "\n",
        "accuracy = accuracy_score(all_labels, all_predictions)\n",
        "f1 = f1_score(all_labels, all_predictions, average='weighted')\n",
        "\n",
        "print(f\"Faster R-CNN Accuracy: {accuracy:.4f}\")\n",
        "print(f\"Faster R-CNN F1 Score: {f1:.4f}\")"
      ],
      "metadata": {
        "id": "-3mC1roQ3xXD"
      },
      "execution_count": null,
      "outputs": []
    },
    {
      "cell_type": "markdown",
      "source": [
        "Comparison & Fine-tuning"
      ],
      "metadata": {
        "id": "jDQVVvM74f7n"
      }
    },
    {
      "cell_type": "code",
      "source": [
        "import torchvision.models as models\n",
        "import torch.nn as nn\n",
        "import torch.optim as optim\n",
        "import time\n",
        "from sklearn.metrics import accuracy_score, f1_score\n",
        "\n",
        "\n",
        "vgg16 = models.vgg16(pretrained=True)\n",
        "\n",
        "\n",
        "for param in vgg16.features.parameters():\n",
        "    param.requires_grad = False\n",
        "\n",
        "\n",
        "num_features = vgg16.classifier[6].in_features\n",
        "vgg16.classifier[6] = nn.Linear(num_features, 10)\n",
        "vgg16 = vgg16.to(device)\n",
        "\n",
        "\n",
        "criterion_vgg = nn.CrossEntropyLoss()\n",
        "optimizer_vgg = optim.Adam(vgg16.parameters(), lr=0.001)\n",
        "\n",
        "\n",
        "num_epochs = 2\n",
        "start_time_vgg = time.time()\n",
        "for epoch in range(num_epochs):\n",
        "    running_loss = 0.0\n",
        "    for i, (inputs, labels) in enumerate(train_loader, 0):\n",
        "        inputs, labels = inputs.to(device), labels.to(device)\n",
        "\n",
        "        optimizer_vgg.zero_grad()\n",
        "        outputs = vgg16(inputs)\n",
        "        loss = criterion_vgg(outputs, labels)\n",
        "        loss.backward()\n",
        "        optimizer_vgg.step()\n",
        "\n",
        "        running_loss += loss.item()\n",
        "        if i % 200 == 199:\n",
        "            print(f'Epoch: {epoch + 1}, Batch: {i + 1}, Loss: {running_loss / 200:.3f}')\n",
        "            running_loss = 0.0\n",
        "training_time_vgg = time.time() - start_time_vgg\n",
        "print(f\"Finished training VGG16. Total training time: {training_time_vgg:.2f} seconds\")\n",
        "\n",
        "vgg16.eval()\n",
        "all_predictions_vgg = []\n",
        "all_labels_vgg = []\n",
        "\n",
        "with torch.no_grad():\n",
        "    for inputs, labels in test_loader:\n",
        "        inputs, labels = inputs.to(device), labels.to(device)\n",
        "        outputs = vgg16(inputs)\n",
        "        _, predicted = torch.max(outputs.data, 1)\n",
        "        all_predictions_vgg.extend(predicted.cpu().numpy())\n",
        "        all_labels_vgg.extend(labels.cpu().numpy())\n",
        "\n",
        "accuracy_vgg = accuracy_score(all_labels_vgg, all_predictions_vgg)\n",
        "f1_vgg = f1_score(all_labels_vgg, all_predictions_vgg, average='weighted')\n",
        "\n",
        "print(f'VGG16 Accuracy: {accuracy_vgg:.4f}')\n",
        "print(f'VGG16 F1 Score: {f1_vgg:.4f}')\n",
        "\n",
        "\n",
        "alexnet = models.alexnet(pretrained=True)\n",
        "\n",
        "\n",
        "for param in alexnet.features.parameters():\n",
        "    param.requires_grad = False\n",
        "\n",
        "\n",
        "num_features = alexnet.classifier[6].in_features\n",
        "alexnet.classifier[6] = nn.Linear(num_features, 10)\n",
        "alexnet = alexnet.to(device)\n",
        "\n",
        "\n",
        "criterion_alexnet = nn.CrossEntropyLoss()\n",
        "optimizer_alexnet = optim.Adam(alexnet.parameters(), lr=0.001)\n",
        "\n",
        "\n",
        "start_time_alexnet = time.time()\n",
        "for epoch in range(num_epochs):\n",
        "    running_loss = 0.0\n",
        "    for i, (inputs, labels) in enumerate(train_loader, 0):\n",
        "        inputs, labels = inputs.to(device), labels.to(device)\n",
        "\n",
        "        optimizer_alexnet.zero_grad()\n",
        "        outputs = alexnet(inputs)\n",
        "        loss = criterion_alexnet(outputs, labels)\n",
        "        loss.backward()\n",
        "        optimizer_alexnet.step()\n",
        "\n",
        "        running_loss += loss.item()\n",
        "        if i % 200 == 199:\n",
        "            print(f'Epoch: {epoch + 1}, Batch: {i + 1}, Loss: {running_loss / 200:.3f}')\n",
        "            running_loss = 0.0\n",
        "\n",
        "training_time_alexnet = time.time() - start_time_alexnet\n",
        "print(f\"Finished training AlexNet. Total training time: {training_time_alexnet:.2f} seconds\")\n",
        "\n",
        "\n",
        "alexnet.eval()\n",
        "all_predictions_alexnet = []\n",
        "all_labels_alexnet = []\n",
        "\n",
        "with torch.no_grad():\n",
        "    for inputs, labels in test_loader:\n",
        "        inputs, labels = inputs.to(device), labels.to(device)\n",
        "        outputs = alexnet(inputs)\n",
        "        _, predicted = torch.max(outputs.data, 1)\n",
        "        all_predictions_alexnet.extend(predicted.cpu().numpy())\n",
        "        all_labels_alexnet.extend(labels.cpu().numpy())\n",
        "\n",
        "accuracy_alexnet = accuracy_score(all_labels_alexnet, all_predictions_alexnet)\n",
        "f1_alexnet = f1_score(all_labels_alexnet, all_predictions_alexnet, average='weighted')\n",
        "\n",
        "print(f'AlexNet Accuracy: {accuracy_alexnet:.4f}')\n",
        "print(f'AlexNet F1 Score: {f1_alexnet:.4f}')\n",
        "\n",
        "\n",
        "print(\"\\nModel Comparison:\")\n",
        "print(f\"CNN Training Time: {training_time:.2f} seconds\")\n",
        "print(f\"CNN Accuracy: {accuracy:.4f}\")\n",
        "print(f\"CNN F1 Score: {f1:.4f}\")\n",
        "\n",
        "print(f\"Faster R-CNN Training Time: {training_time_frcnn:.2f} seconds\")\n",
        "print(f\"Faster R-CNN Accuracy: {accuracy:.4f}\")\n",
        "print(f\"Faster R-CNN F1 Score: {f1:.4f}\")\n",
        "\n",
        "\n",
        "print(f\"VGG16 Training Time: {training_time_vgg:.2f} seconds\")\n",
        "print(f\"VGG16 Accuracy: {accuracy_vgg:.4f}\")\n",
        "print(f\"VGG16 F1 Score: {f1_vgg:.4f}\")\n",
        "\n",
        "print(f\"AlexNet Training Time: {training_time_alexnet:.2f} seconds\")\n",
        "print(f\"AlexNet Accuracy: {accuracy_alexnet:.4f}\")\n",
        "print(f\"AlexNet F1 Score: {f1_alexnet:.4f}\")"
      ],
      "metadata": {
        "id": "cKOtV-DZ4id6"
      },
      "execution_count": null,
      "outputs": []
    }
  ]
}